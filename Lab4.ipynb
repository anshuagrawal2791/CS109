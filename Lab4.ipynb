{
 "cells": [
  {
   "cell_type": "code",
   "execution_count": 1,
   "metadata": {
    "collapsed": true
   },
   "outputs": [],
   "source": [
    "%matplotlib inline\n",
    "import matplotlib.pyplot as plt\n",
    "import numpy as np\n",
    "import pandas as pd\n",
    "import json\n",
    "from collections import defaultdict\n",
    "import scipy as sp\n",
    "\n",
    "from matplotlib import rcParams\n",
    "import matplotlib.cm as cm\n",
    "import matplotlib as mpl\n",
    "\n",
    "import brewer2mpl\n",
    "\n"
   ]
  },
  {
   "cell_type": "code",
   "execution_count": 3,
   "metadata": {
    "collapsed": false
   },
   "outputs": [
    {
     "name": "stdout",
     "output_type": "stream",
     "text": [
      "Sequential\n",
      "Blues     :  {3, 4, 5, 6, 7, 8, 9}\n",
      "BuGn      :  {3, 4, 5, 6, 7, 8, 9}\n",
      "BuPu      :  {3, 4, 5, 6, 7, 8, 9}\n",
      "GnBu      :  {3, 4, 5, 6, 7, 8, 9}\n",
      "Greens    :  {3, 4, 5, 6, 7, 8, 9}\n",
      "Greys     :  {3, 4, 5, 6, 7, 8, 9}\n",
      "OrRd      :  {3, 4, 5, 6, 7, 8, 9}\n",
      "Oranges   :  {3, 4, 5, 6, 7, 8, 9}\n",
      "PuBu      :  {3, 4, 5, 6, 7, 8, 9}\n",
      "PuBuGn    :  {3, 4, 5, 6, 7, 8, 9}\n",
      "PuRd      :  {3, 4, 5, 6, 7, 8, 9}\n",
      "Purples   :  {3, 4, 5, 6, 7, 8, 9}\n",
      "RdPu      :  {3, 4, 5, 6, 7, 8, 9}\n",
      "Reds      :  {3, 4, 5, 6, 7, 8, 9}\n",
      "YlGn      :  {3, 4, 5, 6, 7, 8, 9}\n",
      "YlGnBu    :  {3, 4, 5, 6, 7, 8, 9}\n",
      "YlOrBr    :  {3, 4, 5, 6, 7, 8, 9}\n",
      "YlOrRd    :  {3, 4, 5, 6, 7, 8, 9}\n",
      "Diverging\n",
      "BrBG      :  {3, 4, 5, 6, 7, 8, 9, 10, 11}\n",
      "PRGn      :  {3, 4, 5, 6, 7, 8, 9, 10, 11}\n",
      "PiYG      :  {3, 4, 5, 6, 7, 8, 9, 10, 11}\n",
      "PuOr      :  {3, 4, 5, 6, 7, 8, 9, 10, 11}\n",
      "RdBu      :  {3, 4, 5, 6, 7, 8, 9, 10, 11}\n",
      "RdGy      :  {3, 4, 5, 6, 7, 8, 9, 10, 11}\n",
      "RdYlBu    :  {3, 4, 5, 6, 7, 8, 9, 10, 11}\n",
      "RdYlGn    :  {3, 4, 5, 6, 7, 8, 9, 10, 11}\n",
      "Spectral  :  {3, 4, 5, 6, 7, 8, 9, 10, 11}\n",
      "Qualitative\n",
      "Accent    :  {3, 4, 5, 6, 7, 8}\n",
      "Dark2     :  {3, 4, 5, 6, 7, 8}\n",
      "Paired    :  {3, 4, 5, 6, 7, 8, 9, 10, 11, 12}\n",
      "Pastel1   :  {3, 4, 5, 6, 7, 8, 9}\n",
      "Pastel2   :  {3, 4, 5, 6, 7, 8}\n",
      "Set1      :  {3, 4, 5, 6, 7, 8, 9}\n",
      "Set2      :  {3, 4, 5, 6, 7, 8}\n",
      "Set3      :  {3, 4, 5, 6, 7, 8, 9, 10, 11, 12}\n"
     ]
    }
   ],
   "source": [
    "brewer2mpl.print_maps()"
   ]
  },
  {
   "cell_type": "code",
   "execution_count": 4,
   "metadata": {
    "collapsed": true
   },
   "outputs": [],
   "source": [
    "dark2_cmap = brewer2mpl.get_map('Dark2','Qualitative',7)\n",
    "dark2_colors = dark2_cmap.mpl_colors"
   ]
  },
  {
   "cell_type": "code",
   "execution_count": 8,
   "metadata": {
    "collapsed": false
   },
   "outputs": [],
   "source": [
    "rcParams['figure.figsize'] = (10, 6)\n",
    "rcParams['figure.dpi'] = 150\n",
    "rcParams['axes.color_cycle'] = dark2_colors\n",
    "rcParams['lines.linewidth'] = 2\n",
    "rcParams['axes.facecolor'] = 'white'\n",
    "rcParams['font.size'] = 14\n",
    "rcParams['patch.edgecolor'] = 'white'\n",
    "rcParams['patch.facecolor'] = dark2_colors[0]\n",
    "rcParams['font.family'] = 'StixGeneral'\n",
    "\n",
    "\n",
    "def remove_border(axes=None, top=False, right=False, left=True, bottom=True):\n",
    "    \"\"\"\n",
    "    Minimize chartjunk by stripping out unnecesasry plot borders and axis ticks\n",
    "    \n",
    "    The top/right/left/bottom keywords toggle whether the corresponding plot border is drawn\n",
    "    \"\"\"\n",
    "    ax = axes or plt.gca()\n",
    "    ax.spines['top'].set_visible(top)\n",
    "    ax.spines['right'].set_visible(right)\n",
    "    ax.spines['left'].set_visible(left)\n",
    "    ax.spines['bottom'].set_visible(bottom)\n",
    "    \n",
    "    #turn off all ticks\n",
    "    ax.yaxis.set_ticks_position('none')\n",
    "    ax.xaxis.set_ticks_position('none')\n",
    "    \n",
    "    #now re-enable visibles\n",
    "    if top:\n",
    "        ax.xaxis.tick_top()\n",
    "    if bottom:\n",
    "        ax.xaxis.tick_bottom()\n",
    "    if left:\n",
    "        ax.yaxis.tick_left()\n",
    "    if right:\n",
    "        ax.yaxis.tick_right()\n",
    "        \n",
    "pd.set_option('display.width', 500)\n",
    "pd.set_option('display.max_columns', 100)"
   ]
  },
  {
   "cell_type": "code",
   "execution_count": 9,
   "metadata": {
    "collapsed": true
   },
   "outputs": [],
   "source": [
    "states_abbrev_dict = {\n",
    "        'AK': 'Alaska',\n",
    "        'AL': 'Alabama',\n",
    "        'AR': 'Arkansas',\n",
    "        'AS': 'American Samoa',\n",
    "        'AZ': 'Arizona',\n",
    "        'CA': 'California',\n",
    "        'CO': 'Colorado',\n",
    "        'CT': 'Connecticut',\n",
    "        'DC': 'District of Columbia',\n",
    "        'DE': 'Delaware',\n",
    "        'FL': 'Florida',\n",
    "        'GA': 'Georgia',\n",
    "        'GU': 'Guam',\n",
    "        'HI': 'Hawaii',\n",
    "        'IA': 'Iowa',\n",
    "        'ID': 'Idaho',\n",
    "        'IL': 'Illinois',\n",
    "        'IN': 'Indiana',\n",
    "        'KS': 'Kansas',\n",
    "        'KY': 'Kentucky',\n",
    "        'LA': 'Louisiana',\n",
    "        'MA': 'Massachusetts',\n",
    "        'MD': 'Maryland',\n",
    "        'ME': 'Maine',\n",
    "        'MI': 'Michigan',\n",
    "        'MN': 'Minnesota',\n",
    "        'MO': 'Missouri',\n",
    "        'MP': 'Northern Mariana Islands',\n",
    "        'MS': 'Mississippi',\n",
    "        'MT': 'Montana',\n",
    "        'NA': 'National',\n",
    "        'NC': 'North Carolina',\n",
    "        'ND': 'North Dakota',\n",
    "        'NE': 'Nebraska',\n",
    "        'NH': 'New Hampshire',\n",
    "        'NJ': 'New Jersey',\n",
    "        'NM': 'New Mexico',\n",
    "        'NV': 'Nevada',\n",
    "        'NY': 'New York',\n",
    "        'OH': 'Ohio',\n",
    "        'OK': 'Oklahoma',\n",
    "        'OR': 'Oregon',\n",
    "        'PA': 'Pennsylvania',\n",
    "        'PR': 'Puerto Rico',\n",
    "        'RI': 'Rhode Island',\n",
    "        'SC': 'South Carolina',\n",
    "        'SD': 'South Dakota',\n",
    "        'TN': 'Tennessee',\n",
    "        'TX': 'Texas',\n",
    "        'UT': 'Utah',\n",
    "        'VA': 'Virginia',\n",
    "        'VI': 'Virgin Islands',\n",
    "        'VT': 'Vermont',\n",
    "        'WA': 'Washington',\n",
    "        'WI': 'Wisconsin',\n",
    "        'WV': 'West Virginia',\n",
    "        'WY': 'Wyoming'\n",
    "}\n",
    "abbrev_states_dict = {v: k for k, v in states_abbrev_dict.items()}"
   ]
  },
  {
   "cell_type": "code",
   "execution_count": null,
   "metadata": {
    "collapsed": true
   },
   "outputs": [],
   "source": []
  }
 ],
 "metadata": {
  "anaconda-cloud": {},
  "kernelspec": {
   "display_name": "Python [Root]",
   "language": "python",
   "name": "Python [Root]"
  },
  "language_info": {
   "codemirror_mode": {
    "name": "ipython",
    "version": 2
   },
   "file_extension": ".py",
   "mimetype": "text/x-python",
   "name": "python",
   "nbconvert_exporter": "python",
   "pygments_lexer": "ipython2",
   "version": "2.7.12"
  }
 },
 "nbformat": 4,
 "nbformat_minor": 0
}
