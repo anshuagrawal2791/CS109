{
 "cells": [
  {
   "cell_type": "code",
   "execution_count": 20,
   "metadata": {
    "collapsed": false
   },
   "outputs": [],
   "source": [
    "%matplotlib inline\n",
    "import pandas as pd\n",
    "import urllib2\n",
    "from bs4 import BeautifulSoup\n",
    "import time\n",
    "import matplotlib.pyplot as plt\n",
    "\n"
   ]
  },
  {
   "cell_type": "code",
   "execution_count": 21,
   "metadata": {
    "collapsed": false
   },
   "outputs": [],
   "source": [
    "def get_links_from_front_pages(n):\n",
    "    reddit_url = 'http://www.reddit.com/'\n",
    "    comment_pages = []\n",
    "    soups = []\n",
    "    user_agent = 'Mozilla/5.0 (Windows NT 6.1; Win64; x64)'\n",
    "    headers = {'User-Agent' : 'super happy flair bot by /u/spladug'}\n",
    "    for page_index in range(n):\n",
    "        req = urllib2.Request(reddit_url, headers=headers)\n",
    "        page = urllib2.urlopen(req).read()\n",
    "        soup = BeautifulSoup(page)\n",
    "        soups.append(soup)\n",
    "        for link in (soup.find_all('a',class_='bylink comments may-blank')):\n",
    "            href = (link.get('href'))\n",
    "            if href:\n",
    "                comment_pages.append(href)\n",
    "        for a in soup.find_all('a'):\n",
    "            if a.get('href'):\n",
    "                 if(('count=%d'%((page_index+1)*25)) in a.get('href')):\n",
    "                    print(a.get('href'))\n",
    "                    reddit_url= a.get('href')\n",
    "#         time.sleep(5)\n",
    "    return list(set(comment_pages))\n",
    "\n",
    "# print (get_links_from_front_pages(1))"
   ]
  },
  {
   "cell_type": "code",
   "execution_count": 22,
   "metadata": {
    "collapsed": false
   },
   "outputs": [],
   "source": [
    "def info_from_comments_page(links):\n",
    "    results = []\n",
    "    headers = {'User-Agent' : 'super happy flair bot by /u/spladug'}\n",
    "    for url in links:\n",
    "        try:\n",
    "            print(\"fetching details for: \", url)\n",
    "            req = urllib2.Request(url,headers=headers)\n",
    "            page = urllib2.urlopen(req).read()\n",
    "            soup = BeautifulSoup(page)\n",
    "            title = soup.title.string\n",
    "#             print(title)\n",
    "#             upvotes = soup.find_all(\"div\", class_=\"score dislikes\")[0].getText()\n",
    "            upvotes_and_percent_upvotes = soup.find_all(\"div\",class_=\"score\")[0].getText().replace(',','').replace('points (','').replace('point (','').replace('%','')\n",
    "            x = upvotes_and_percent_upvotes.split()\n",
    "            upvotes = int(x[0])\n",
    "            b =  int(x[1])\n",
    "            downvotes = int(((upvotes*100)/b)*(100 - (b))*0.01)\n",
    "            time = soup.find_all(\"p\",class_=\"tagline\")[0].find_all(\"time\",class_=\"live-timestamp\")[0].get(\"datetime\")\n",
    "#             print(time)\n",
    "#             print(upvotes)\n",
    "#             print(upvotes_and_percent_upvotes)\n",
    "#             print(upvotes)\n",
    "#             print(b)\n",
    "#             print(\"downvote\",downvotes)\n",
    "            results.append((title, upvotes, downvotes, pd.to_datetime(time)))\n",
    "        except KeyboardInterrupt:\n",
    "            break\n",
    "        except:\n",
    "            pass\n",
    "    return results\n",
    "            "
   ]
  },
  {
   "cell_type": "code",
   "execution_count": 23,
   "metadata": {
    "collapsed": false
   },
   "outputs": [
    {
     "name": "stdout",
     "output_type": "stream",
     "text": [
      "https://www.reddit.com/?count=25&after=t3_541zcp\n",
      "https://www.reddit.com/?count=50&after=t3_541hi6\n",
      "https://www.reddit.com/?count=75&after=t3_542aem\n",
      "https://www.reddit.com/?count=100&after=t3_542dlx\n",
      "https://www.reddit.com/?count=125&after=t3_53z6lq\n",
      "146\n"
     ]
    }
   ],
   "source": [
    "comments = get_links_from_front_pages(5)\n",
    "print(len(comments))\n",
    "\n"
   ]
  },
  {
   "cell_type": "code",
   "execution_count": 25,
   "metadata": {
    "collapsed": false
   },
   "outputs": [
    {
     "name": "stdout",
     "output_type": "stream",
     "text": [
      "('fetching details for: ', 'https://www.reddit.com/r/sports/comments/53zwo3/the_military_paid_pro_sports_teams_104_million/')\n",
      "('fetching details for: ', 'https://www.reddit.com/r/AskReddit/comments/543dfz/what_do_you_think_will_be_the_main_reason_for/')\n",
      "('fetching details for: ', 'https://www.reddit.com/r/funny/comments/541r2w/my_cousin_decided_to_study_in_australia_this_was/')\n",
      "('fetching details for: ', 'https://www.reddit.com/r/GetMotivated/comments/542fhj/since_class_is_permanent_here_is_a_blast_from_the/')\n",
      "('fetching details for: ', 'https://www.reddit.com/r/personalfinance/comments/540157/just_found_out_my_parents_have_had_70k_for_me_in/')\n",
      "('fetching details for: ', 'https://www.reddit.com/r/funny/comments/541h1t/albanian_virus/')\n",
      "('fetching details for: ', 'https://www.reddit.com/r/tifu/comments/540v2a/tifu_and_my_dog_tried_to_stab_my_wife_with_a_knife/')\n",
      "('fetching details for: ', 'https://www.reddit.com/r/nosleep/comments/53z7a5/the_first_girl/')\n",
      "('fetching details for: ', 'https://www.reddit.com/r/Documentaries/comments/53zhw7/cunk_on_shakespeare_2016_bbc_documentary_on_the/')\n",
      "('fetching details for: ', 'https://www.reddit.com/r/explainlikeimfive/comments/541kbr/eli5_why_were_bearer_bonds_a_plot_device_in/')\n",
      "('fetching details for: ', 'https://www.reddit.com/r/Showerthoughts/comments/543cri/my_phone_loves_to_autocorrect_fucking_to_ducking/')\n",
      "('fetching details for: ', 'https://www.reddit.com/r/philosophy/comments/53z2i5/the_comparative_badness_for_animals_of_suffering/')\n",
      "('fetching details for: ', 'https://www.reddit.com/r/nosleep/comments/54355z/can_anyone_even_see_this_im_having_a_really/')\n",
      "('fetching details for: ', 'https://www.reddit.com/r/worldnews/comments/53zvgt/pesticide_manufacturers_own_tests_reveal_serious/')\n",
      "('fetching details for: ', 'https://www.reddit.com/r/funny/comments/541by1/when_you_are_so_hungry_you_buy_food_at_two_places/')\n",
      "('fetching details for: ', 'https://www.reddit.com/r/mildlyinteresting/comments/541hi6/buying_two_half_pies_is_cheaper_than_buying_a/')\n",
      "('fetching details for: ', 'https://www.reddit.com/r/IAmA/comments/540522/we_are_fsociety_kind_of_mr_robot_writers_and/')\n",
      "('fetching details for: ', 'https://www.reddit.com/r/videos/comments/540wbm/the_best_product_demo_of_all_time/')\n",
      "                                   date  downvotes  \\\n",
      "2016-09-22 16:49:31 2016-09-22 16:49:31         62   \n",
      "2016-09-23 06:04:39 2016-09-23 06:04:39          0   \n",
      "2016-09-22 22:59:07 2016-09-22 22:59:07        497   \n",
      "2016-09-23 01:40:46 2016-09-23 01:40:46         14   \n",
      "2016-09-22 17:13:43 2016-09-22 17:13:43        498   \n",
      "2016-09-22 21:58:11 2016-09-22 21:58:11        248   \n",
      "2016-09-22 19:54:03 2016-09-22 19:54:03         59   \n",
      "2016-09-22 14:28:10 2016-09-22 14:28:10        104   \n",
      "2016-09-22 15:28:24 2016-09-22 15:28:24        242   \n",
      "2016-09-22 22:17:11 2016-09-22 22:17:11         88   \n",
      "2016-09-23 05:58:14 2016-09-23 05:58:14          0   \n",
      "2016-09-22 13:59:49 2016-09-22 13:59:49         53   \n",
      "2016-09-23 04:48:23 2016-09-23 04:48:23          3   \n",
      "2016-09-22 16:43:00 2016-09-22 16:43:00        185   \n",
      "2016-09-22 21:28:20 2016-09-22 21:28:20        909   \n",
      "2016-09-22 22:00:53 2016-09-22 22:00:53        111   \n",
      "2016-09-22 17:34:44 2016-09-22 17:34:44        551   \n",
      "\n",
      "                                                                 title  \\\n",
      "2016-09-22 16:49:31  The military paid pro sports teams $10.4 milli...   \n",
      "2016-09-23 06:04:39  What do you think will be the main reason for ...   \n",
      "2016-09-22 22:59:07  My cousin decided to study in Australia. This ...   \n",
      "2016-09-23 01:40:46  Since class Is Permanent, here is a Blast from...   \n",
      "2016-09-22 17:13:43  Just found out my parents have had 70k for me ...   \n",
      "2016-09-22 21:58:11                             Albanian virus : funny   \n",
      "2016-09-22 19:54:03  TIFU and my dog tried to stab my wife with a k...   \n",
      "2016-09-22 14:28:10                           The First Girl : nosleep   \n",
      "2016-09-22 15:28:24  Cunk on Shakespeare (2016) - BBC documentary o...   \n",
      "2016-09-22 22:17:11  ELI5: Why were Bearer Bonds a plot device in m...   \n",
      "2016-09-23 05:58:14  My phone loves to autocorrect fucking to ducki...   \n",
      "2016-09-22 13:59:49  \"The Comparative Badness for Animals of Suffer...   \n",
      "2016-09-23 04:48:23  Can anyone even see this? I'm having a really,...   \n",
      "2016-09-22 16:43:00  Pesticide manufacturers' own tests reveal seri...   \n",
      "2016-09-22 21:28:20  When you are so hungry you buy food at two pla...   \n",
      "2016-09-22 22:00:53  Buying two half pies is cheaper than buying a ...   \n",
      "2016-09-22 17:34:44  We are fsociety (kind of): Mr. Robot writers a...   \n",
      "\n",
      "                     upvotes  \n",
      "2016-09-22 16:49:31      505  \n",
      "2016-09-23 06:04:39        2  \n",
      "2016-09-22 22:59:07     3057  \n",
      "2016-09-23 01:40:46      188  \n",
      "2016-09-22 17:13:43     4483  \n",
      "2016-09-22 21:58:11     3301  \n",
      "2016-09-22 19:54:03      684  \n",
      "2016-09-22 14:28:10      940  \n",
      "2016-09-22 15:28:24     1775  \n",
      "2016-09-22 22:17:11      896  \n",
      "2016-09-23 05:58:14        1  \n",
      "2016-09-22 13:59:49      394  \n",
      "2016-09-23 04:48:23       35  \n",
      "2016-09-22 16:43:00     2909  \n",
      "2016-09-22 21:28:20     6673  \n",
      "2016-09-22 22:00:53     1740  \n",
      "2016-09-22 17:34:44     4047  \n"
     ]
    }
   ],
   "source": [
    "results = info_from_comments_page(comments)\n",
    "# print(results)\n",
    "titles, upvotes, downvotes, dates = zip(*results)\n",
    "df = pd.DataFrame({'title' : titles, 'upvotes' : upvotes, 'downvotes' : downvotes, 'date' : dates}, index=dates)\n",
    "print df\n"
   ]
  },
  {
   "cell_type": "code",
   "execution_count": 26,
   "metadata": {
    "collapsed": false
   },
   "outputs": [
    {
     "name": "stderr",
     "output_type": "stream",
     "text": [
      "/Users/anshu/anaconda/lib/python2.7/site-packages/ipykernel/__main__.py:1: FutureWarning: sort(columns=....) is deprecated, use sort_values(by=.....)\n",
      "  if __name__ == '__main__':\n"
     ]
    },
    {
     "data": {
      "text/html": [
       "<div>\n",
       "<table border=\"1\" class=\"dataframe\">\n",
       "  <thead>\n",
       "    <tr style=\"text-align: right;\">\n",
       "      <th></th>\n",
       "      <th>date</th>\n",
       "      <th>downvotes</th>\n",
       "      <th>title</th>\n",
       "      <th>upvotes</th>\n",
       "    </tr>\n",
       "  </thead>\n",
       "  <tbody>\n",
       "    <tr>\n",
       "      <th>2016-09-22 13:59:49</th>\n",
       "      <td>2016-09-22 13:59:49</td>\n",
       "      <td>53</td>\n",
       "      <td>\"The Comparative Badness for Animals of Suffer...</td>\n",
       "      <td>394</td>\n",
       "    </tr>\n",
       "    <tr>\n",
       "      <th>2016-09-22 14:28:10</th>\n",
       "      <td>2016-09-22 14:28:10</td>\n",
       "      <td>104</td>\n",
       "      <td>The First Girl : nosleep</td>\n",
       "      <td>940</td>\n",
       "    </tr>\n",
       "    <tr>\n",
       "      <th>2016-09-22 15:28:24</th>\n",
       "      <td>2016-09-22 15:28:24</td>\n",
       "      <td>242</td>\n",
       "      <td>Cunk on Shakespeare (2016) - BBC documentary o...</td>\n",
       "      <td>1775</td>\n",
       "    </tr>\n",
       "    <tr>\n",
       "      <th>2016-09-22 16:43:00</th>\n",
       "      <td>2016-09-22 16:43:00</td>\n",
       "      <td>185</td>\n",
       "      <td>Pesticide manufacturers' own tests reveal seri...</td>\n",
       "      <td>2909</td>\n",
       "    </tr>\n",
       "    <tr>\n",
       "      <th>2016-09-22 16:49:31</th>\n",
       "      <td>2016-09-22 16:49:31</td>\n",
       "      <td>62</td>\n",
       "      <td>The military paid pro sports teams $10.4 milli...</td>\n",
       "      <td>505</td>\n",
       "    </tr>\n",
       "  </tbody>\n",
       "</table>\n",
       "</div>"
      ],
      "text/plain": [
       "                                   date  downvotes  \\\n",
       "2016-09-22 13:59:49 2016-09-22 13:59:49         53   \n",
       "2016-09-22 14:28:10 2016-09-22 14:28:10        104   \n",
       "2016-09-22 15:28:24 2016-09-22 15:28:24        242   \n",
       "2016-09-22 16:43:00 2016-09-22 16:43:00        185   \n",
       "2016-09-22 16:49:31 2016-09-22 16:49:31         62   \n",
       "\n",
       "                                                                 title  \\\n",
       "2016-09-22 13:59:49  \"The Comparative Badness for Animals of Suffer...   \n",
       "2016-09-22 14:28:10                           The First Girl : nosleep   \n",
       "2016-09-22 15:28:24  Cunk on Shakespeare (2016) - BBC documentary o...   \n",
       "2016-09-22 16:43:00  Pesticide manufacturers' own tests reveal seri...   \n",
       "2016-09-22 16:49:31  The military paid pro sports teams $10.4 milli...   \n",
       "\n",
       "                     upvotes  \n",
       "2016-09-22 13:59:49      394  \n",
       "2016-09-22 14:28:10      940  \n",
       "2016-09-22 15:28:24     1775  \n",
       "2016-09-22 16:43:00     2909  \n",
       "2016-09-22 16:49:31      505  "
      ]
     },
     "execution_count": 26,
     "metadata": {},
     "output_type": "execute_result"
    }
   ],
   "source": [
    "df.sort('date',inplace=True)\n",
    "# print(comments[0])\n",
    "df.head()"
   ]
  },
  {
   "cell_type": "code",
   "execution_count": 28,
   "metadata": {
    "collapsed": false
   },
   "outputs": [
    {
     "data": {
      "text/plain": [
       "(array([ 736229.625     ,  736229.70833333,  736229.79166667,\n",
       "         736229.875     ,  736229.95833333,  736230.04166667,\n",
       "         736230.125     ,  736230.20833333]),\n",
       " <a list of 8 Text xticklabel objects>)"
      ]
     },
     "execution_count": 28,
     "metadata": {},
     "output_type": "execute_result"
    },
    {
     "data": {
      "image/png": "[encoded data removed]",
      "text/plain": [
       "<matplotlib.figure.Figure at 0x1265b6150>"
      ]
     },
     "metadata": {},
     "output_type": "display_data"
    }
   ],
   "source": [
    "plt.plot(df['date'],df['upvotes'],\"g\")\n",
    "plt.plot(df['date'],df['downvotes'],\"r\")\n",
    "plt.plot(df['date'],df['upvotes']-df['downvotes'],\"k\")\n",
    "plt.xticks(rotation = 70)\n",
    "\n",
    "\n"
   ]
  },
  {
   "cell_type": "code",
   "execution_count": null,
   "metadata": {
    "collapsed": true
   },
   "outputs": [],
   "source": []
  },
  {
   "cell_type": "code",
   "execution_count": null,
   "metadata": {
    "collapsed": true
   },
   "outputs": [],
   "source": []
  }
 ],
 "metadata": {
  "anaconda-cloud": {},
  "kernelspec": {
   "display_name": "Python [Root]",
   "language": "python",
   "name": "Python [Root]"
  },
  "language_info": {
   "codemirror_mode": {
    "name": "ipython",
    "version": 2
   },
   "file_extension": ".py",
   "mimetype": "text/x-python",
   "name": "python",
   "nbconvert_exporter": "python",
   "pygments_lexer": "ipython2",
   "version": "2.7.12"
  }
 },
 "nbformat": 4,
 "nbformat_minor": 0
}
